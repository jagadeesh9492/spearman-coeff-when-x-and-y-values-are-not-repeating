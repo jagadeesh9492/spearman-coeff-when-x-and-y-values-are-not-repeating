{
 "cells": [
  {
   "cell_type": "code",
   "execution_count": 1,
   "id": "82eba934",
   "metadata": {},
   "outputs": [
    {
     "name": "stdout",
     "output_type": "stream",
     "text": [
      "rank for physics\n",
      "[7, 5, 9, 4, 3, 8, 2, 1, 6]\n",
      " \n",
      "rank for maths\n",
      "[1, 7, 8, 5, 3, 9, 4, 2, 6]\n",
      " \n",
      "summataion of difference of squares\n",
      "48\n",
      " \n",
      "spear man co relation\n",
      "0.6\n"
     ]
    }
   ],
   "source": [
    "\n",
    "#Physics: 35, 23, 47, 17, 10, 43, 9, 6, 28\n",
    "#Mathematics: 30, 33, 45, 23, 8, 49, 12, 4, 31\n",
    "c1=[] # rank will come in this\n",
    "a=[35,23,47,17,10,43,9,6,28] \n",
    "b=[]\n",
    "c=[]\n",
    "for i in range(1,len(a)+1):\n",
    "    c.append(i)\n",
    "for i in a:\n",
    "    b.append(i)\n",
    "for i in a:\n",
    "    c1.append(i)\n",
    "#print(b)\n",
    "b.sort()\n",
    "#print(b)\n",
    "for j in b:\n",
    "    for i in a:\n",
    "        if j==i:\n",
    "            ind=a.index(i)\n",
    "            c1[ind]=c[b.index(j)]\n",
    "            \n",
    "print('rank for physics') \n",
    "print(c1)  \n",
    "\n",
    "print(' ')\n",
    "#  for maths \n",
    "mat=[]\n",
    "duplicate=[]\n",
    "a1=[0, 33, 45, 23, 8, 49, 12, 4, 31]\n",
    "for i in a1:\n",
    "    duplicate.append(i)\n",
    "    mat.append(i)\n",
    "\n",
    "duplicate.sort()\n",
    "#print(duplicate)\n",
    "print('rank for maths')\n",
    "for l in duplicate:\n",
    "    for k in a1:\n",
    "        if l == k:\n",
    "            ind1=a1.index(k)\n",
    "            mat[ind1]=c[duplicate.index(l)]\n",
    "print(mat)\n",
    "\n",
    "# the ranks are in c1 and mat\n",
    "\n",
    "#math process\n",
    "tem=0\n",
    "new_list=[]\n",
    "for i in range(len(mat)):\n",
    "    res=c1[i]-mat[i]\n",
    "    res=res**2\n",
    "    tem=tem+res\n",
    "print(' ')\n",
    "\n",
    "print('summataion of difference of squares' )\n",
    "print(tem)\n",
    "print(' ')\n",
    "\n",
    "def spear():\n",
    "    \n",
    "    v=len(a)\n",
    "    sol = 1 -((6*tem)/(v**3-v))\n",
    "    print('spear man co relation')\n",
    "    print(sol)\n",
    "\n",
    "spear()    \n",
    "    "
   ]
  },
  {
   "cell_type": "code",
   "execution_count": null,
   "id": "71f6fc46",
   "metadata": {},
   "outputs": [],
   "source": []
  }
 ],
 "metadata": {
  "kernelspec": {
   "display_name": "Python 3 (ipykernel)",
   "language": "python",
   "name": "python3"
  },
  "language_info": {
   "codemirror_mode": {
    "name": "ipython",
    "version": 3
   },
   "file_extension": ".py",
   "mimetype": "text/x-python",
   "name": "python",
   "nbconvert_exporter": "python",
   "pygments_lexer": "ipython3",
   "version": "3.9.13"
  }
 },
 "nbformat": 4,
 "nbformat_minor": 5
}
